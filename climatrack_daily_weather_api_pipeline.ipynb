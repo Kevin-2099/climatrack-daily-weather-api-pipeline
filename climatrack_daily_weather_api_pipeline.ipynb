{
  "nbformat": 4,
  "nbformat_minor": 0,
  "metadata": {
    "colab": {
      "provenance": [],
      "authorship_tag": "ABX9TyP0G9y8FaU2I5hhnTn/ESSl",
      "include_colab_link": true
    },
    "kernelspec": {
      "name": "python3",
      "display_name": "Python 3"
    },
    "language_info": {
      "name": "python"
    }
  },
  "cells": [
    {
      "cell_type": "markdown",
      "metadata": {
        "id": "view-in-github",
        "colab_type": "text"
      },
      "source": [
        "<a href=\"https://colab.research.google.com/github/Kevin-2099/climatrack-daily-weather-api-pipeline/blob/main/climatrack_daily_weather_api_pipeline.ipynb\" target=\"_parent\"><img src=\"https://colab.research.google.com/assets/colab-badge.svg\" alt=\"Open In Colab\"/></a>"
      ]
    },
    {
      "cell_type": "code",
      "execution_count": 9,
      "metadata": {
        "id": "cPZV7jcdZcnT"
      },
      "outputs": [],
      "source": [
        "import requests\n",
        "import pandas as pd\n",
        "from datetime import datetime\n",
        "import time\n",
        "\n",
        "# ⚙️ CONFIGURACIÓN INICIAL\n",
        "API_KEY = \"TU_API_KEY\"  # ← Reemplaza por tu clave real\n",
        "CIUDADES = [\"Madrid\", \"Barcelona\", \"Sevilla\", \"Valencia\", \"Bilbao\"]\n",
        "\n",
        "# 🌐 FUNCIÓN PARA CONSULTAR API DEL CLIMA\n",
        "def consultar_clima(ciudad):\n",
        "    try:\n",
        "        url = f\"http://api.openweathermap.org/data/2.5/weather?q={ciudad}&appid={API_KEY}&units=metric\"\n",
        "        r = requests.get(url)\n",
        "        datos = r.json()\n",
        "\n",
        "        if r.status_code != 200 or \"main\" not in datos:\n",
        "            print(f\"[❌] Error al consultar {ciudad}: {datos}\")\n",
        "            return None\n",
        "\n",
        "        return {\n",
        "            \"ciudad\": ciudad,\n",
        "            \"temperatura\": datos[\"main\"][\"temp\"],\n",
        "            \"humedad\": datos[\"main\"][\"humidity\"],\n",
        "            \"descripcion\": datos[\"weather\"][0][\"description\"],\n",
        "            \"fecha\": datetime.now().strftime(\"%Y-%m-%d %H:%M:%S\")\n",
        "        }\n",
        "\n",
        "    except Exception as e:\n",
        "        print(f\"[⚠️] Excepción al consultar {ciudad}: {e}\")\n",
        "        return None\n",
        "\n",
        "# 📊 FUNCIÓN PARA PROCESAR TODAS LAS CIUDADES\n",
        "def recolectar_datos(ciudades):\n",
        "    registros = []\n",
        "    for ciudad in ciudades:\n",
        "        print(f\"→ Consultando clima de {ciudad}...\")\n",
        "        clima = consultar_clima(ciudad)\n",
        "        if clima:\n",
        "            registros.append(clima)\n",
        "        time.sleep(1)\n",
        "    return registros\n",
        "\n",
        "# 💾 GUARDAR Y MOSTRAR CSV\n",
        "def guardar_y_mostrar_csv(registros, nombre_base=\"datos_clima\"):\n",
        "    fecha_archivo = datetime.now().strftime(\"%Y-%m-%d\")\n",
        "    archivo = f\"{nombre_base}_{fecha_archivo}.csv\"\n",
        "\n",
        "    df = pd.DataFrame(registros)\n",
        "    df.to_csv(archivo, index=False)\n",
        "\n",
        "    print(f\"\\n[✅] Archivo guardado: {archivo}\")\n",
        "    print(\"\\n📄 Contenido del CSV generado:\")\n",
        "    print(df)\n",
        "\n",
        "# 🚀 EJECUCIÓN COMPLETA\n",
        "if __name__ == \"__main__\":\n",
        "    print(\"🌤 Recolectando clima...\\n\")\n",
        "    datos = recolectar_datos(CIUDADES)\n",
        "    if datos:\n",
        "        guardar_y_mostrar_csv(datos)\n",
        "    else:\n",
        "        print(\"❌ No se recolectaron datos.\")"
      ]
    }
  ]
}